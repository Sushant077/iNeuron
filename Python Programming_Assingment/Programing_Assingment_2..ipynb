{
 "cells": [
  {
   "cell_type": "code",
   "execution_count": 1,
   "metadata": {},
   "outputs": [
    {
     "name": "stdout",
     "output_type": "stream",
     "text": [
      "Enter value in kilometers: 10\n",
      "10.00 kilometers is equal to 6.21 miles\n"
     ]
    }
   ],
   "source": [
    "#Que.1.\n",
    "# input in km.\n",
    "kilometers = float(input(\"Enter value in kilometers: \"))\n",
    "\n",
    "# 1 mile = 1.60934 ,there for conversion factor is =0.621371\n",
    "conv_fac = 0.621371\n",
    "\n",
    "miles = kilometers * conv_fac\n",
    "print('%0.2f kilometers is equal to %0.2f miles' %(kilometers,miles))"
   ]
  },
  {
   "cell_type": "code",
   "execution_count": 2,
   "metadata": {},
   "outputs": [
    {
     "name": "stdout",
     "output_type": "stream",
     "text": [
      "value in celsius100\n",
      "100.0 degree Celsius is equal to 212.0 degree Fahrenheit\n"
     ]
    }
   ],
   "source": [
    "#Que.2.\n",
    "# Changing temperature from celsius to fahrenheit\n",
    "\n",
    "celsius =float(input(\"value in celsius\"))\n",
    "\n",
    "# changing formula\n",
    "fahrenheit = (celsius * 1.8) + 32\n",
    "print('%0.1f degree Celsius is equal to %0.1f degree Fahrenheit' %(celsius,fahrenheit))"
   ]
  },
  {
   "cell_type": "code",
   "execution_count": 5,
   "metadata": {},
   "outputs": [
    {
     "name": "stdout",
     "output_type": "stream",
     "text": [
      "    January 1994\n",
      "Mo Tu We Th Fr Sa Su\n",
      "                1  2\n",
      " 3  4  5  6  7  8  9\n",
      "10 11 12 13 14 15 16\n",
      "17 18 19 20 21 22 23\n",
      "24 25 26 27 28 29 30\n",
      "31\n",
      "\n"
     ]
    }
   ],
   "source": [
    "#Que.3.\n",
    "#To dispay calendar of desired year and month,using import.\n",
    "\n",
    "import calendar\n",
    "yy =1994\n",
    "mm =1\n",
    "print(calendar.month(yy,mm))"
   ]
  },
  {
   "cell_type": "code",
   "execution_count": 22,
   "metadata": {},
   "outputs": [
    {
     "name": "stdout",
     "output_type": "stream",
     "text": [
      "The solution are (-3+0j) and (-2+0j)\n"
     ]
    }
   ],
   "source": [
    "#Que.4.\n",
    "# Solve the quadratic equation ax'2 + bx + c = 0\n",
    "\n",
    "# importing cmath module\n",
    "import cmath\n",
    "\n",
    "a = 1\n",
    "b = 5\n",
    "c = 6\n",
    "\n",
    "# calculation of the discriminant\n",
    "d = (b**2) - (4*a*c)\n",
    "\n",
    "# two solutions\n",
    "sol1 = (-b-cmath.sqrt(d))/(2*a)\n",
    "sol2 = (-b+cmath.sqrt(d))/(2*a)\n",
    "\n",
    "print('The solution are {0} and {1}'.format(sol1,sol2))"
   ]
  },
  {
   "cell_type": "code",
   "execution_count": 23,
   "metadata": {},
   "outputs": [
    {
     "name": "stdout",
     "output_type": "stream",
     "text": [
      "value for x: 45\n",
      "value for y: 45\n",
      "x = 45.0\n",
      "y = 45.0\n"
     ]
    }
   ],
   "source": [
    "#Que.5.\n",
    "#swaping two varriables\n",
    "x = float(input('value for x: '))\n",
    "y = float(input('value for y: '))\n",
    "x,y = y,x\n",
    "print(\"x =\", x)\n",
    "print(\"y =\", y)"
   ]
  },
  {
   "cell_type": "code",
   "execution_count": null,
   "metadata": {},
   "outputs": [],
   "source": []
  }
 ],
 "metadata": {
  "kernelspec": {
   "display_name": "Python 3",
   "language": "python",
   "name": "python3"
  },
  "language_info": {
   "codemirror_mode": {
    "name": "ipython",
    "version": 3
   },
   "file_extension": ".py",
   "mimetype": "text/x-python",
   "name": "python",
   "nbconvert_exporter": "python",
   "pygments_lexer": "ipython3",
   "version": "3.8.5"
  }
 },
 "nbformat": 4,
 "nbformat_minor": 4
}
