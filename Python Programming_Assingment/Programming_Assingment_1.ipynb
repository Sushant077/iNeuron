{
 "cells": [
  {
   "cell_type": "code",
   "execution_count": 1,
   "metadata": {},
   "outputs": [
    {
     "name": "stdout",
     "output_type": "stream",
     "text": [
      "Hello Python\n"
     ]
    }
   ],
   "source": [
    "# Que.1.\n",
    "print(\"Hello Python\")"
   ]
  },
  {
   "cell_type": "code",
   "execution_count": 2,
   "metadata": {},
   "outputs": [
    {
     "name": "stdout",
     "output_type": "stream",
     "text": [
      "Enter first number:10\n",
      "Enter operator:+\n",
      "Enter second number:5\n",
      "The result is: 15.0\n"
     ]
    }
   ],
   "source": [
    "# Que.2.\n",
    "# number = any numeric value . float number\n",
    "# operator = mathematical operators(+,-,*,/)\n",
    "\n",
    "num1=input(\"Enter first number:\")\n",
    "operator=input(\"Enter operator:\")\n",
    "num2=input(\"Enter second number:\")\n",
    "if operator==(\"+\"):\n",
    "    x =float(num1)+float(num2)\n",
    "    print(\"The result is:\",x)\n",
    "elif operator==(\"-\"):\n",
    "    x =float(num1)-float(num2)\n",
    "    print(\"The result is:\",x)\n",
    "elif operator==(\"*\"):\n",
    "    x =float(num1)*float(num2)\n",
    "    print(\"The result is:\",x)\n",
    "elif operator==(\"/\"):\n",
    "    x =float(num1)/float(num2)\n",
    "    print(\"The result is:\",x)\n",
    "else:\n",
    "    print(\"invalid opoerator used\")\n"
   ]
  },
  {
   "cell_type": "code",
   "execution_count": 5,
   "metadata": {},
   "outputs": [
    {
     "name": "stdout",
     "output_type": "stream",
     "text": [
      "Enter first side of triangle: 9\n",
      "Enter second side of triangle: 5\n",
      "Enter third side of triangle: 7\n",
      "The area of the triangle is 17.41\n"
     ]
    }
   ],
   "source": [
    "# Que.3.\n",
    "# Python Program to find the area of triangle if three sides are present.\n",
    "a = float(input('Enter first side of triangle: '))\n",
    "b = float(input('Enter second side of triangle: '))\n",
    "c = float(input('Enter third side of triangle: '))\n",
    "\n",
    "# semi-perimeter calculation\n",
    "s = (a + b + c) / 2\n",
    "\n",
    "# calculate the area\n",
    "area = (s*(s-a)*(s-b)*(s-c)) ** 0.5\n",
    "print('The area of the triangle is %0.2f' %area)"
   ]
  },
  {
   "cell_type": "code",
   "execution_count": 9,
   "metadata": {},
   "outputs": [
    {
     "name": "stdout",
     "output_type": "stream",
     "text": [
      "value for x: 10\n",
      "value for y: 45\n",
      "x = 45.0\n",
      "y = 10.0\n"
     ]
    }
   ],
   "source": [
    "# Que.4.\n",
    "#swaping two varriables\n",
    "x = float(input('value for x: '))\n",
    "y = float(input('value for y: '))\n",
    "x,y = y,x\n",
    "print(\"x =\", x)\n",
    "print(\"y =\", y)"
   ]
  },
  {
   "cell_type": "code",
   "execution_count": 13,
   "metadata": {},
   "outputs": [
    {
     "name": "stdout",
     "output_type": "stream",
     "text": [
      "Random number is : 37628\n"
     ]
    }
   ],
   "source": [
    "# Que.5.\n",
    "# Python program to generate a random number .\n",
    "import random\n",
    "n=101010\n",
    "x= int(n*random.random())+1\n",
    "print(\"Random number is :\",x)"
   ]
  },
  {
   "cell_type": "code",
   "execution_count": null,
   "metadata": {},
   "outputs": [],
   "source": []
  }
 ],
 "metadata": {
  "kernelspec": {
   "display_name": "Python 3",
   "language": "python",
   "name": "python3"
  },
  "language_info": {
   "codemirror_mode": {
    "name": "ipython",
    "version": 3
   },
   "file_extension": ".py",
   "mimetype": "text/x-python",
   "name": "python",
   "nbconvert_exporter": "python",
   "pygments_lexer": "ipython3",
   "version": "3.8.5"
  }
 },
 "nbformat": 4,
 "nbformat_minor": 4
}
